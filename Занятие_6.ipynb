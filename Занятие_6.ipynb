{
  "cells": [
    {
      "cell_type": "markdown",
      "metadata": {
        "id": "view-in-github",
        "colab_type": "text"
      },
      "source": [
        "<a href=\"https://colab.research.google.com/github/Keyko-mb/AnalysisLabs/blob/main/%D0%97%D0%B0%D0%BD%D1%8F%D1%82%D0%B8%D0%B5_6.ipynb\" target=\"_parent\"><img src=\"https://colab.research.google.com/assets/colab-badge.svg\" alt=\"Open In Colab\"/></a>"
      ]
    },
    {
      "cell_type": "markdown",
      "metadata": {
        "id": "YhTR4zaZQD-j"
      },
      "source": [
        "# Сводная таблица pivot_table\n",
        "\n",
        "Сводная таблица - это мощный инструмент для обобщения и представления данных.\n",
        "\n",
        "В Pandas для подготовки сводных таблиц вызывают метод **pivot_table()**.\n",
        "\n",
        "Аргументы метода:\n",
        "\n",
        "• index — ключи для группировки по индексу (строке)\n",
        "\n",
        "• columns — ключи для группировки столбцов\n",
        "\n",
        "• values — значения, по которым мы хотим увидеть сводную таблицу (столбцы для агрегирования)\n",
        "\n",
        "• aggfunc — функция, применяемая к значениям (т.е. что делать с повторяющимися значениями)\n",
        "\n",
        "<img src=\"https://raw.githubusercontent.com/dm-fedorov/pandas_basic/master/pic/pivot_table_pandas.png\" >\n",
        "\n"
      ]
    },
    {
      "cell_type": "markdown",
      "metadata": {
        "id": "ulOjrdpuQD-p"
      },
      "source": [
        "Построим сводную таблицу для задачи по SEO-оптимизации.\n",
        "Для начала загрузите дата-сет data.final, полученный в результате выполнения предыдущей задачи (объединения таблиц), сохраните ешл в переменной df."
      ]
    },
    {
      "cell_type": "code",
      "execution_count": 2,
      "metadata": {
        "id": "hK4JIvEyQD-q"
      },
      "outputs": [],
      "source": [
        "#Youre codw is here\n",
        "import pandas as pd\n",
        "df = pd.read_csv('/content/data_final.csv')"
      ]
    },
    {
      "cell_type": "markdown",
      "metadata": {
        "id": "-qj4qWJoQD-s"
      },
      "source": [
        "## Поворот данных\n",
        "\n",
        "Создавать сводную таблицу **(pivot_table)** лучше всего последовательно. Добавляйте элементы по одному и проверяйте каждый шаг, чтобы убедиться, что вы получаете ожидаемые результаты. Самая простая сводная таблица должна иметь **DataFrame** и индекс **(index)**.\n",
        "\n",
        "В этом примере давайте использовать **category_name** в качестве индекса:\n",
        "\n",
        "**pd.pivot_table(df, index=[\"category_name\"])**"
      ]
    },
    {
      "cell_type": "code",
      "execution_count": 4,
      "metadata": {
        "colab": {
          "base_uri": "https://localhost:8080/"
        },
        "id": "z3irjst0QD-s",
        "outputId": "dc5cad51-5518-4684-82fc-6b289a2b1ed3"
      },
      "outputs": [
        {
          "output_type": "stream",
          "name": "stdout",
          "text": [
            "                                  visits\n",
            "category_name                           \n",
            "Авто                         4328.489583\n",
            "Бытовая техника              7012.164557\n",
            "Дача, сад и огород           1511.142857\n",
            "Детские товары               1657.736434\n",
            "Досуг и развлечения           959.428571\n",
            "Компьютерная техника        12523.693548\n",
            "Оборудование                  475.884615\n",
            "Одежда, обувь и аксессуары   1486.037500\n",
            "Продукты                      595.454545\n",
            "Спорт и отдых                2187.768519\n"
          ]
        },
        {
          "output_type": "stream",
          "name": "stderr",
          "text": [
            "<ipython-input-4-ed129af45dd4>:2: FutureWarning: pivot_table dropped a column because it failed to aggregate. This behavior is deprecated and will raise in a future version of pandas. Select only the columns that can be aggregated.\n",
            "  pivot_table = pd.pivot_table(df, index=[\"category_name\"])\n"
          ]
        }
      ],
      "source": [
        "# Youre code is here\n",
        "pivot_table = pd.pivot_table(df, index=[\"category_name\"])\n",
        "print(pivot_table.head(10))"
      ]
    },
    {
      "cell_type": "markdown",
      "metadata": {
        "id": "gFiLverCQD-t"
      },
      "source": [
        "У вас может быть несколько индексов. Фактически, большинство аргументов **pivot_table** могут принимать несколько значений в качестве элементов списка. Добавьте в список индексов переменную **subcategory_name**."
      ]
    },
    {
      "cell_type": "code",
      "execution_count": 5,
      "metadata": {
        "colab": {
          "base_uri": "https://localhost:8080/"
        },
        "id": "QXcLULo0QD-t",
        "outputId": "ecfa1792-f802-4684-f617-3021db63484e"
      },
      "outputs": [
        {
          "output_type": "stream",
          "name": "stdout",
          "text": [
            "                                           visits\n",
            "category_name subcategory_name                   \n",
            "Авто          Автоакустика                10674.0\n",
            "              Автомагнитолы               13236.5\n",
            "              Автомобильные инверторы       147.5\n",
            "              Автомобильные компрессоры     598.5\n",
            "              Автомобильные телевизоры     1610.5\n",
            "              Автомобильные холодильники    244.5\n",
            "              Автосигнализации              760.0\n",
            "              Аккумуляторные батареи       1916.0\n",
            "              Антифризы                    1152.0\n",
            "              Багажники, рейлинги           503.0\n"
          ]
        },
        {
          "output_type": "stream",
          "name": "stderr",
          "text": [
            "<ipython-input-5-a0165bb37480>:2: FutureWarning: pivot_table dropped a column because it failed to aggregate. This behavior is deprecated and will raise in a future version of pandas. Select only the columns that can be aggregated.\n",
            "  pivot_table = pd.pivot_table(df, index=[\"category_name\", 'subcategory_name'])\n"
          ]
        }
      ],
      "source": [
        "# Youre code is here\n",
        "pivot_table = pd.pivot_table(df, index=[\"category_name\", 'subcategory_name'])\n",
        "print(pivot_table.head(10))"
      ]
    },
    {
      "cell_type": "markdown",
      "metadata": {
        "id": "Eq3JuUHYQD-u"
      },
      "source": [
        "Вы могли заметить, что сводная таблица достаточно умна, чтобы начать агрегирование данных и их обобщение, группируя категории товаров (**category_name**) с их подкатегориями (**subcategory_name**). Теперь мы начинаем понимать, что может сделать для нас сводная таблица.\n",
        "\n",
        "Поскольку в данном случае столбец с количественной переменной только один (**visits**), он автоматически определился в качестве значения параметра **values**. Однако, можно явно определить столбцы, которые нам нужны, с помощью этого параметра **values**:\n",
        "\n",
        "**pd.pivot_table(df, index=['category_name', 'subcategory_name'], values=[\"visits\"])**"
      ]
    },
    {
      "cell_type": "code",
      "execution_count": 6,
      "metadata": {
        "colab": {
          "base_uri": "https://localhost:8080/"
        },
        "id": "K72LUjEEQD-v",
        "outputId": "2e0ed8f9-2e4b-49e6-ce09-6d81050d34b3"
      },
      "outputs": [
        {
          "output_type": "stream",
          "name": "stdout",
          "text": [
            "                                           visits\n",
            "category_name subcategory_name                   \n",
            "Авто          Автоакустика                10674.0\n",
            "              Автомагнитолы               13236.5\n",
            "              Автомобильные инверторы       147.5\n",
            "              Автомобильные компрессоры     598.5\n",
            "              Автомобильные телевизоры     1610.5\n",
            "              Автомобильные холодильники    244.5\n",
            "              Автосигнализации              760.0\n",
            "              Аккумуляторные батареи       1916.0\n",
            "              Антифризы                    1152.0\n",
            "              Багажники, рейлинги           503.0\n"
          ]
        }
      ],
      "source": [
        "# Youre code is here\n",
        "pivot_table = pd.pivot_table(df, index=['category_name', 'subcategory_name'], values=[\"visits\"])\n",
        "print(pivot_table.head(10))"
      ]
    },
    {
      "cell_type": "markdown",
      "metadata": {
        "id": "2-gJEyprQD-v"
      },
      "source": [
        "Столбец цен (**visits**) по умолчанию усредняет данные, но мы можем произвести подсчет количества или суммы. Добавить их можно с помощью параметра **aggfunc**:\n",
        "\n",
        "**pd.pivot_table(df, index=['category_name', 'subcategory_name'], values=[\"visits\"], aggfunc='sum')**"
      ]
    },
    {
      "cell_type": "code",
      "execution_count": 7,
      "metadata": {
        "colab": {
          "base_uri": "https://localhost:8080/"
        },
        "id": "p7R12fVfQD-w",
        "outputId": "e836a805-6beb-468d-bbd2-d8c78608b0ed"
      },
      "outputs": [
        {
          "output_type": "stream",
          "name": "stdout",
          "text": [
            "                                          visits\n",
            "category_name subcategory_name                  \n",
            "Авто          Автоакустика                 21348\n",
            "              Автомагнитолы                26473\n",
            "              Автомобильные инверторы        295\n",
            "              Автомобильные компрессоры     1197\n",
            "              Автомобильные телевизоры      3221\n",
            "              Автомобильные холодильники     489\n",
            "              Автосигнализации              1520\n",
            "              Аккумуляторные батареи        3832\n",
            "              Антифризы                     2304\n",
            "              Багажники, рейлинги           1006\n"
          ]
        }
      ],
      "source": [
        "# Youre code is here\n",
        "pivot_table = pd.pivot_table(df, index=['category_name', 'subcategory_name'], values=[\"visits\"], aggfunc='sum')\n",
        "print(pivot_table.head(10))"
      ]
    },
    {
      "cell_type": "markdown",
      "metadata": {
        "id": "tcMdOnykQD-w"
      },
      "source": [
        "**Aggfunc** может принимать список функций.\n",
        "\n",
        "Давайте попробуем узнать среднее значение и количество:\n",
        "\n"
      ]
    },
    {
      "cell_type": "code",
      "execution_count": 11,
      "metadata": {
        "colab": {
          "base_uri": "https://localhost:8080/"
        },
        "id": "P6HnFQatQD-w",
        "outputId": "006f3d5e-10f3-4fd2-d551-9b7be97401e6"
      },
      "outputs": [
        {
          "output_type": "stream",
          "name": "stdout",
          "text": [
            "Среднее значение visits\n",
            "                                           visits\n",
            "category_name subcategory_name                   \n",
            "Авто          Автоакустика                10674.0\n",
            "              Автомагнитолы               13236.5\n",
            "              Автомобильные инверторы       147.5\n",
            "              Автомобильные компрессоры     598.5\n",
            "              Автомобильные телевизоры     1610.5\n",
            "              Автомобильные холодильники    244.5\n",
            "              Автосигнализации              760.0\n",
            "              Аккумуляторные батареи       1916.0\n",
            "              Антифризы                    1152.0\n",
            "              Багажники, рейлинги           503.0\n",
            "\n",
            "Количество visits\n",
            "                                          visits\n",
            "category_name subcategory_name                  \n",
            "Авто          Автоакустика                     2\n",
            "              Автомагнитолы                    2\n",
            "              Автомобильные инверторы          2\n",
            "              Автомобильные компрессоры        2\n",
            "              Автомобильные телевизоры         2\n",
            "              Автомобильные холодильники       2\n",
            "              Автосигнализации                 2\n",
            "              Аккумуляторные батареи           2\n",
            "              Антифризы                        2\n",
            "              Багажники, рейлинги              2\n"
          ]
        }
      ],
      "source": [
        "# Youre code is here\n",
        "print('Среднее значение visits')\n",
        "pivot_table_mean = pd.pivot_table(df, index=['category_name', 'subcategory_name'], values=[\"visits\"], aggfunc='mean')\n",
        "print(pivot_table_mean.head(10))\n",
        "\n",
        "print('\\nКоличество visits')\n",
        "pivot_table_count = pd.pivot_table(df, index=['category_name', 'subcategory_name'], values=[\"visits\"], aggfunc='count')\n",
        "print(pivot_table_count.head(10))"
      ]
    },
    {
      "cell_type": "markdown",
      "metadata": {
        "id": "PbyWUReyQD-w"
      },
      "source": [
        "Если мы хотим увидеть визиты с разбивкой по источникам трафика (**source**), переменная **columns** позволяет нам определить один или несколько столбцов.\n",
        "\n",
        "Одна из сложностей **pivot_table** - это использование столбцов (**columns**) и значений (**values**).\n",
        "\n",
        "Помните, что столбцы необязательны - они предоставляют дополнительный способ сегментировать актуальные значения, которые вам нужны.\n",
        "\n",
        "Функции агрегирования применяются к перечисленным значениям (**values**):\n",
        "\n",
        "**pd.pivot_table(df, index=['category_name', 'subcategory_name'], values=[\"visits\"], columns=[\"source\"], aggfunc='sum'])**\n"
      ]
    },
    {
      "cell_type": "code",
      "execution_count": 12,
      "metadata": {
        "colab": {
          "base_uri": "https://localhost:8080/"
        },
        "id": "ca1-g6qtQD-x",
        "outputId": "afb68bdc-c0a9-4747-a1c7-c8971588e840"
      },
      "outputs": [
        {
          "output_type": "stream",
          "name": "stdout",
          "text": [
            "                                         visits        \n",
            "source                                   direct organic\n",
            "category_name subcategory_name                         \n",
            "Авто          Автоакустика                 5915   15433\n",
            "              Автомагнитолы                7783   18690\n",
            "              Автомобильные инверторы       145     150\n",
            "              Автомобильные компрессоры     407     790\n",
            "              Автомобильные телевизоры      975    2246\n",
            "              Автомобильные холодильники    204     285\n",
            "              Автосигнализации              494    1026\n",
            "              Аккумуляторные батареи       1175    2657\n",
            "              Антифризы                     736    1568\n",
            "              Багажники, рейлинги           342     664\n"
          ]
        }
      ],
      "source": [
        "# Youre code is here\n",
        "pivot_table = pd.pivot_table(df, index=['category_name', 'subcategory_name'], values=[\"visits\"], columns=[\"source\"], aggfunc='sum')\n",
        "print(pivot_table.head(10))"
      ]
    },
    {
      "cell_type": "markdown",
      "metadata": {
        "id": "TvA-tgeYQD-x"
      },
      "source": [
        "Теперь вы видите название категории и её подкатегории со значениями объёма трафика по каждой.\n",
        "\n",
        "Как видно, основная категория включает в себя подкатегорию и это представлено в структуре датафрейма: категория отображена иерархически главной над подкатегорией. Такие датафреймы содержат в себе мультииндекс. Часто при работе с такими датафреймами мультииндекс убирают, чтобы категория была отображена на каждой строчке датафрейма:\n",
        "\n",
        "**pd.pivot_table(df, index=['category_name', 'subcategory_name'], values=[\"visits\"],\n",
        "               columns=[\"source\"], aggfunc='sum').reset_index()**\n"
      ]
    },
    {
      "cell_type": "code",
      "execution_count": 14,
      "metadata": {
        "colab": {
          "base_uri": "https://localhost:8080/"
        },
        "id": "IUA_TYWAQD-x",
        "outputId": "e63240ea-abb0-4bd3-9a0b-ad4913a98146"
      },
      "outputs": [
        {
          "output_type": "stream",
          "name": "stdout",
          "text": [
            "                                         visits        \n",
            "source                                   direct organic\n",
            "category_name subcategory_name                         \n",
            "Авто          Автоакустика                 5915   15433\n",
            "              Автомагнитолы                7783   18690\n",
            "              Автомобильные инверторы       145     150\n",
            "              Автомобильные компрессоры     407     790\n",
            "              Автомобильные телевизоры      975    2246\n",
            "              Автомобильные холодильники    204     285\n",
            "              Автосигнализации              494    1026\n",
            "              Аккумуляторные батареи       1175    2657\n",
            "              Антифризы                     736    1568\n",
            "              Багажники, рейлинги           342     664\n"
          ]
        }
      ],
      "source": [
        "#Youre code is here\n",
        "pd.pivot_table(df, index=['category_name', 'subcategory_name'], values=[\"visits\"], columns=[\"source\"], aggfunc='sum').reset_index()\n",
        "print(pivot_table.head(10))"
      ]
    },
    {
      "cell_type": "markdown",
      "metadata": {
        "id": "bBeriUROQD-x"
      },
      "source": [
        "В таблице выше суммы визитов **visits** по каждому из источников **source (direct и organic)** представлены в отдельных столбцах. Такой вид таблицы называется «широкий». Он удобен, когда нужно сравнить значения столбцов. Хорошо заметно, например, что в подкатегории «Автомобильные инверторы» количество визитов из источников **direct** и **organic** практически одинаково, а в подкатегории «Автомагнитолы» из источника **organic** пришло почти в два раза больше посетителей, чем из **direct**."
      ]
    },
    {
      "cell_type": "markdown",
      "metadata": {
        "id": "llCQ3DHfQD-x"
      },
      "source": [
        "## Расширенная фильтрация сводной таблицы\n",
        "\n",
        "После того, как вы сгенерировали свои данные, они находятся в **DataFrame**, поэтому можно фильтровать их, используя обычные методы **DataFrame**.\n",
        "\n",
        "Если вы хотите посмотреть только на одну категорию, например, \"Товары для дома\":\n",
        "\n",
        "**data_pivot = pd.pivot_table(df, index=['category_name', 'subcategory_name'], values='visits', columns='source',\n",
        "                            aggfunc='sum').reset_index()**\n",
        "**print((data_pivot[data_pivot['category_name']=='Товары для дома']).head(10))**"
      ]
    },
    {
      "cell_type": "code",
      "execution_count": 55,
      "metadata": {
        "colab": {
          "base_uri": "https://localhost:8080/"
        },
        "id": "JUWhziN1QD-y",
        "outputId": "0aed3a9d-3fc0-41c8-b4fd-faf99a53152a"
      },
      "outputs": [
        {
          "output_type": "stream",
          "name": "stdout",
          "text": [
            "source    category_name          subcategory_name  direct  organic\n",
            "646     Товары для дома                Аксессуары     219      329\n",
            "647     Товары для дома    Аксессуары для готовки     216      326\n",
            "648     Товары для дома        Банки для хранения     113       58\n",
            "649     Товары для дома         Блюда и салатники     300      550\n",
            "650     Товары для дома          Бокалы и стаканы     750     1595\n",
            "651     Товары для дома                       Бра     265      452\n",
            "652     Товары для дома                      Вазы     142      142\n",
            "653     Товары для дома         Вешалки напольные     304      562\n",
            "654     Товары для дома  Встраиваемые светильники     306      563\n",
            "655     Товары для дома       Выпечка и запекание     698     1460\n"
          ]
        }
      ],
      "source": [
        "#Youre code is here\n",
        "data_pivot = pd.pivot_table(df, index=['category_name', 'subcategory_name'], values='visits', columns='source', aggfunc='sum').reset_index()\n",
        "print((data_pivot[data_pivot['category_name']=='Товары для дома']).head(10))"
      ]
    },
    {
      "cell_type": "markdown",
      "metadata": {
        "id": "XsbIkJfdQD-y"
      },
      "source": [
        "Или, например, мы можем узнать на какие товары запросы с органического трафика в разы больше, чем с прямого. Для этого создадим в таблице **data_pivot** новый столбец **'ratio'** и сохраните в нём значение отношения органического трафика **'organic'** к прямому **'direct'**.\n",
        "\n",
        "Отсортируем таблицу по столбцу 'ratio' в порядке убывания. Выведите первые 10 строк.\n",
        "\n",
        "**data_pivot['ratio'] = data_pivot['organic'] / data_pivot['direct']**\n",
        "\n",
        "**data_my = data_pivot.sort_values(by = 'ratio', ascending=False)**\n",
        "\n",
        "**print(data_my.head(10))**"
      ]
    },
    {
      "cell_type": "code",
      "execution_count": 17,
      "metadata": {
        "colab": {
          "base_uri": "https://localhost:8080/"
        },
        "id": "W_DdwBN8QD-y",
        "outputId": "5bf511b6-4bce-4e37-b9a7-aca725b666f8"
      },
      "outputs": [
        {
          "output_type": "stream",
          "name": "stdout",
          "text": [
            "source           category_name                    subcategory_name  direct  \\\n",
            "45                        Авто                                Шины   39638   \n",
            "105            Бытовая техника                   Стиральные машины   22064   \n",
            "468              Спорт и отдых                          Велосипеды   16009   \n",
            "205             Детские товары                             Коляски   18079   \n",
            "609     Строительство и ремонт                  Сварочные аппараты    6175   \n",
            "678            Товары для дома                 Компьютерные кресла    6208   \n",
            "330       Компьютерная техника                          Клавиатуры    6224   \n",
            "921                Электроника  Универсальные внешние аккумуляторы    6146   \n",
            "866                Электроника                           TV-тюнеры    6275   \n",
            "117            Бытовая техника                        Холодильники   20920   \n",
            "\n",
            "source  organic     ratio  \n",
            "45       153859  3.881604  \n",
            "105       64570  2.926487  \n",
            "468       46087  2.878818  \n",
            "205       52005  2.876542  \n",
            "609       17325  2.805668  \n",
            "678       17407  2.803963  \n",
            "330       17417  2.798361  \n",
            "921       17115  2.784738  \n",
            "866       17427  2.777211  \n",
            "117       57985  2.771750  \n"
          ]
        }
      ],
      "source": [
        "#Youre code is here\n",
        "data_pivot['ratio'] = data_pivot['organic'] / data_pivot['direct']\n",
        "data_my = data_pivot.sort_values(by = 'ratio', ascending=False)\n",
        "print(data_my.head(10))"
      ]
    },
    {
      "cell_type": "markdown",
      "metadata": {
        "id": "Y3DJ3qFwQD-y"
      },
      "source": [
        "# Задачи для самостоятельного выполнения\n",
        "\n",
        "Для начала давайте представим, что мы являемся аналитиками в фирме по продаже компьютеров, программного обеспечения к ним, а также оказываем услуги по техническому сопровождению. Нам поставлена задача проанализировать участие компании в различных аукционах.\n",
        "\n",
        "1. Прочитайте и сохраните файл \"baza.xlsx\" с данными аукционов в переменную data_pd."
      ]
    },
    {
      "cell_type": "code",
      "execution_count": 21,
      "metadata": {
        "colab": {
          "base_uri": "https://localhost:8080/"
        },
        "id": "mf4duWlnQD-y",
        "outputId": "54e9bb1c-9234-44d0-aeea-79339b0cd53d"
      },
      "outputs": [
        {
          "output_type": "stream",
          "name": "stdout",
          "text": [
            "   Аукцион  Контрагент        Контакт      Менеджер             Продукт  \\\n",
            "0   424845  Ильин и Ко   Сергей Ильин  Илья Сергеев           Компьютер   \n",
            "1   312058  Ильин и Ко   Сергей Ильин  Илья Сергеев                Софт   \n",
            "2   918390  Ильин и Ко   Сергей Ильин  Илья Сергеев  Тех. сопровождение   \n",
            "3   997345  Ильин и Ко   Сергей Ильин  Илья Сергеев           Компьютер   \n",
            "4   496901  Шахты плюс  Данил Сидоров  Илья Сергеев           Компьютер   \n",
            "\n",
            "   Количество   Цена           Статус  \n",
            "0           4  45200  на рассмотрении  \n",
            "1           2  37600  на рассмотрении  \n",
            "2           2  21200       в ожидании  \n",
            "3           5  39100          отменен  \n",
            "4           3  13600          выигран  \n"
          ]
        }
      ],
      "source": [
        "#Youre code is here\n",
        "data_pd = pd.read_excel('/content/baza.xlsx')\n",
        "print(data_pd.head(5))"
      ]
    },
    {
      "cell_type": "markdown",
      "metadata": {
        "id": "pqOLFxrpQD-z"
      },
      "source": [
        "2. Cоздайте сводную таблицу сводную таблицу по столбцу Контрагент:"
      ]
    },
    {
      "cell_type": "code",
      "execution_count": 42,
      "metadata": {
        "colab": {
          "base_uri": "https://localhost:8080/"
        },
        "id": "HBOods9sQD-z",
        "outputId": "15507a1e-6d6e-4dc1-bc7e-9e97e169c0af"
      },
      "outputs": [
        {
          "output_type": "stream",
          "name": "stdout",
          "text": [
            "                      Аукцион  Количество   Цена\n",
            "Контрагент                                      \n",
            "Альма           501268.000000    3.000000  24500\n",
            "Ильин и Ко      663159.500000    3.250000  35775\n",
            "Кружка и ложка  299563.750000    2.750000  27000\n",
            "Микрошкин       230691.750000    3.500000  23275\n",
            "Шахты плюс      755031.333333    1.666667  14900\n"
          ]
        },
        {
          "output_type": "stream",
          "name": "stderr",
          "text": [
            "<ipython-input-42-858fbabe307f>:2: FutureWarning: pivot_table dropped a column because it failed to aggregate. This behavior is deprecated and will raise in a future version of pandas. Select only the columns that can be aggregated.\n",
            "  pivot_table = pd.pivot_table(data_pd, index='Контрагент')\n"
          ]
        }
      ],
      "source": [
        "#Youre code is here\n",
        "pivot_table = pd.pivot_table(data_pd, index='Контрагент')\n",
        "print(pivot_table.head(5))"
      ]
    },
    {
      "cell_type": "markdown",
      "metadata": {
        "id": "5E2-W1UIQD-z"
      },
      "source": [
        "3. Создайте сводную таблицу по нескольким индексируемым столбцам  'Контакт', 'Менеджер':\n"
      ]
    },
    {
      "cell_type": "code",
      "execution_count": 41,
      "metadata": {
        "colab": {
          "base_uri": "https://localhost:8080/"
        },
        "id": "saPSSHfiQD-z",
        "outputId": "48524e37-feed-4a71-b4cf-cd78c8269941"
      },
      "outputs": [
        {
          "output_type": "stream",
          "name": "stdout",
          "text": [
            "                                  Аукцион  Количество   Цена\n",
            "Контакт       Менеджер                                      \n",
            "Виктор Юдин   Павел Попов   299563.750000    2.750000  27000\n",
            "Данил Сидоров Илья Сергеев  755031.333333    1.666667  14900\n",
            "Женя Сидин    Илья Сергеев  501268.000000    3.000000  24500\n",
            "Сергей Ильин  Илья Сергеев  663159.500000    3.250000  35775\n",
            "Сергей Минин  Павел Попов   230691.750000    3.500000  23275\n"
          ]
        },
        {
          "output_type": "stream",
          "name": "stderr",
          "text": [
            "<ipython-input-41-bc7ad272597c>:2: FutureWarning: pivot_table dropped a column because it failed to aggregate. This behavior is deprecated and will raise in a future version of pandas. Select only the columns that can be aggregated.\n",
            "  pivot_table = pd.pivot_table(data_pd, index=['Контакт', 'Менеджер'])\n"
          ]
        }
      ],
      "source": [
        "#Youre code is here\n",
        "pivot_table = pd.pivot_table(data_pd, index=['Контакт', 'Менеджер'])\n",
        "print(pivot_table.head(5))"
      ]
    },
    {
      "cell_type": "markdown",
      "metadata": {
        "id": "7A1OT2AqQD-z"
      },
      "source": [
        "4. По умолчанию сводная таблица выводится по всем числовым полям, однако это не всегда удобно, а иногда и лишено смысла, поэтому можно выводить сводные данные только по отдельным столбцам. Выведите только столбец \"Стоимость\", для этого добавьте параметр values=['Цена']:"
      ]
    },
    {
      "cell_type": "code",
      "execution_count": 40,
      "metadata": {
        "colab": {
          "base_uri": "https://localhost:8080/"
        },
        "id": "2zBrfFdnQD-z",
        "outputId": "30367252-9cd0-4ae9-e691-bd10c4ed0bfd"
      },
      "outputs": [
        {
          "output_type": "stream",
          "name": "stdout",
          "text": [
            "                             Цена\n",
            "Контакт       Менеджер           \n",
            "Виктор Юдин   Павел Попов   27000\n",
            "Данил Сидоров Илья Сергеев  14900\n",
            "Женя Сидин    Илья Сергеев  24500\n",
            "Сергей Ильин  Илья Сергеев  35775\n",
            "Сергей Минин  Павел Попов   23275\n"
          ]
        }
      ],
      "source": [
        "#Youre code is here\n",
        "pivot_table = pd.pivot_table(data_pd, index=['Контакт', 'Менеджер'], values=['Цена'])\n",
        "print(pivot_table.head(5))"
      ]
    },
    {
      "cell_type": "markdown",
      "metadata": {
        "id": "ugPakdYVQD-z"
      },
      "source": [
        "5. Столбец с ценой по умолчанию выводит среднее значение, однако нам скорее интересна сумма продаж. Добавляем параметр aggfunc='sum':"
      ]
    },
    {
      "cell_type": "code",
      "execution_count": 44,
      "metadata": {
        "colab": {
          "base_uri": "https://localhost:8080/"
        },
        "id": "nMJIMYwaQD-0",
        "outputId": "724f3b91-059d-4692-fc53-05b60199b655"
      },
      "outputs": [
        {
          "output_type": "stream",
          "name": "stdout",
          "text": [
            "                              Цена\n",
            "Контакт       Менеджер            \n",
            "Виктор Юдин   Павел Попов   108000\n",
            "Данил Сидоров Илья Сергеев   44700\n",
            "Женя Сидин    Илья Сергеев   49000\n",
            "Сергей Ильин  Илья Сергеев  143100\n",
            "Сергей Минин  Павел Попов    93100\n"
          ]
        }
      ],
      "source": [
        "#Youre code is here\n",
        "pivot_table = pd.pivot_table(data_pd, index=['Контакт', 'Менеджер'], values=['Цена'], aggfunc='sum')\n",
        "print(pivot_table.head(5))"
      ]
    },
    {
      "cell_type": "markdown",
      "metadata": {
        "id": "h5-DByxQQD-0"
      },
      "source": [
        "6. С помощью параметра columns выведите в столбцы наименование продуктов:"
      ]
    },
    {
      "cell_type": "code",
      "execution_count": 45,
      "metadata": {
        "colab": {
          "base_uri": "https://localhost:8080/"
        },
        "id": "WqnqY0XzQD-0",
        "outputId": "227e90a6-7bae-430e-8c53-fceea7a0922c"
      },
      "outputs": [
        {
          "output_type": "stream",
          "name": "stdout",
          "text": [
            "                                Цена                                    \n",
            "Продукт                    Компьютер Монитор     Софт Тех. сопровождение\n",
            "Контакт       Менеджер                                                  \n",
            "Виктор Юдин   Павел Попов    83900.0  9300.0      NaN            14800.0\n",
            "Данил Сидоров Илья Сергеев   38000.0     NaN   6700.0                NaN\n",
            "Женя Сидин    Илья Сергеев   42000.0     NaN      NaN             7000.0\n",
            "Сергей Ильин  Илья Сергеев   84300.0     NaN  37600.0            21200.0\n",
            "Сергей Минин  Павел Попов    43900.0     NaN  46900.0             2300.0\n"
          ]
        }
      ],
      "source": [
        "#Youre code is here\n",
        "pivot_table = pd.pivot_table(data_pd, index=['Контакт', 'Менеджер'], columns=['Продукт'], values=['Цена'], aggfunc='sum')\n",
        "print(pivot_table.head(5))"
      ]
    },
    {
      "cell_type": "markdown",
      "metadata": {
        "id": "jt7hhk57QD-0"
      },
      "source": [
        "7. Наверное вы обратили внимание, что в ячейках, где нет данных пусто, хотя нам привычнее, что бы в таких полях указывалось бы значение 0. Добавьте параметр fill_value=0:"
      ]
    },
    {
      "cell_type": "code",
      "execution_count": 46,
      "metadata": {
        "colab": {
          "base_uri": "https://localhost:8080/"
        },
        "id": "AHzxG9vQQD-0",
        "outputId": "049d4288-3daf-4313-8041-2a371ff6d5a2"
      },
      "outputs": [
        {
          "output_type": "stream",
          "name": "stdout",
          "text": [
            "                                Цена                                  \n",
            "Продукт                    Компьютер Монитор   Софт Тех. сопровождение\n",
            "Контакт       Менеджер                                                \n",
            "Виктор Юдин   Павел Попов      83900    9300      0              14800\n",
            "Данил Сидоров Илья Сергеев     38000       0   6700                  0\n",
            "Женя Сидин    Илья Сергеев     42000       0      0               7000\n",
            "Сергей Ильин  Илья Сергеев     84300       0  37600              21200\n",
            "Сергей Минин  Павел Попов      43900       0  46900               2300\n"
          ]
        }
      ],
      "source": [
        "#Youre code is here\n",
        "pivot_table = pd.pivot_table(data_pd, index=['Контакт', 'Менеджер'], columns=['Продукт'], values=['Цена'], aggfunc='sum', fill_value=0)\n",
        "print(pivot_table.head(5))"
      ]
    },
    {
      "cell_type": "markdown",
      "metadata": {
        "id": "O2Yo5u0TQD-0"
      },
      "source": [
        "8. Вероятно полезно было бы рассматривать эффективность деятельности наших менеджеров не только по стоимости продаж, но и по их количеству. Добавьте в параметр values переменную  \"Количество\""
      ]
    },
    {
      "cell_type": "code",
      "execution_count": 58,
      "metadata": {
        "colab": {
          "base_uri": "https://localhost:8080/"
        },
        "id": "ISX0oOaaQD-1",
        "outputId": "d3d1f665-ab34-4d91-dc25-8ce3fd3e0f5c"
      },
      "outputs": [
        {
          "output_type": "stream",
          "name": "stdout",
          "text": [
            "                           Количество                                  \\\n",
            "Продукт                     Компьютер Монитор Софт Тех. сопровождение   \n",
            "Контакт       Менеджер                                                  \n",
            "Виктор Юдин   Павел Попов           6       4    0                  1   \n",
            "Данил Сидоров Илья Сергеев          4       0    1                  0   \n",
            "Женя Сидин    Илья Сергеев          4       0    0                  2   \n",
            "Сергей Ильин  Илья Сергеев          9       0    2                  2   \n",
            "Сергей Минин  Павел Попов           8       0    4                  2   \n",
            "\n",
            "                                Цена                                    \n",
            "Продукт                    Компьютер Монитор   Софт Тех. сопровождение  \n",
            "Контакт       Менеджер                                                  \n",
            "Виктор Юдин   Павел Попов      83900    9300      0              14800  \n",
            "Данил Сидоров Илья Сергеев     38000       0   6700                  0  \n",
            "Женя Сидин    Илья Сергеев     42000       0      0               7000  \n",
            "Сергей Ильин  Илья Сергеев     84300       0  37600              21200  \n",
            "Сергей Минин  Павел Попов      43900       0  46900               2300  \n"
          ]
        }
      ],
      "source": [
        "#Youre code is here\n",
        "pivot_table = pd.pivot_table(data_pd, index=['Контакт', 'Менеджер'], columns=['Продукт'], values=['Цена', 'Количество'], aggfunc='sum', fill_value=0)\n",
        "print(pivot_table.head(5))"
      ]
    },
    {
      "cell_type": "markdown",
      "metadata": {
        "id": "Hf910kUsQD-1"
      },
      "source": [
        "9. Выведите продажи только менеджера \"Илья Сергеев\":"
      ]
    },
    {
      "cell_type": "code",
      "execution_count": 59,
      "metadata": {
        "colab": {
          "base_uri": "https://localhost:8080/"
        },
        "id": "h8AXugftQD-6",
        "outputId": "e5e86637-7d62-47a9-89ad-e8aae79efd59"
      },
      "outputs": [
        {
          "output_type": "stream",
          "name": "stdout",
          "text": [
            "               Контакт      Менеджер Количество               \\\n",
            "Продукт                               Компьютер Монитор Софт   \n",
            "1        Данил Сидоров  Илья Сергеев          4       0    1   \n",
            "2           Женя Сидин  Илья Сергеев          4       0    0   \n",
            "3         Сергей Ильин  Илья Сергеев          9       0    2   \n",
            "\n",
            "                                Цена                                    \n",
            "Продукт Тех. сопровождение Компьютер Монитор   Софт Тех. сопровождение  \n",
            "1                        0     38000       0   6700                  0  \n",
            "2                        2     42000       0      0               7000  \n",
            "3                        2     84300       0  37600              21200  \n"
          ]
        }
      ],
      "source": [
        "#Youre code is here\n",
        "pivot_table = pivot_table.reset_index()\n",
        "print((pivot_table[pivot_table['Менеджер'] == \"Илья Сергеев\"]).head(10))"
      ]
    }
  ],
  "metadata": {
    "kernelspec": {
      "display_name": "Python 3 (ipykernel)",
      "language": "python",
      "name": "python3"
    },
    "language_info": {
      "codemirror_mode": {
        "name": "ipython",
        "version": 3
      },
      "file_extension": ".py",
      "mimetype": "text/x-python",
      "name": "python",
      "nbconvert_exporter": "python",
      "pygments_lexer": "ipython3",
      "version": "3.9.12"
    },
    "colab": {
      "provenance": [],
      "include_colab_link": true
    }
  },
  "nbformat": 4,
  "nbformat_minor": 0
}