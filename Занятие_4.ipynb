{
  "cells": [
    {
      "cell_type": "markdown",
      "metadata": {
        "id": "view-in-github",
        "colab_type": "text"
      },
      "source": [
        "<a href=\"https://colab.research.google.com/github/Keyko-mb/AnalysisLabs/blob/main/%D0%97%D0%B0%D0%BD%D1%8F%D1%82%D0%B8%D0%B5_4.ipynb\" target=\"_parent\"><img src=\"https://colab.research.google.com/assets/colab-badge.svg\" alt=\"Open In Colab\"/></a>"
      ]
    },
    {
      "cell_type": "markdown",
      "metadata": {
        "id": "HGzCV9uXM0ta"
      },
      "source": [
        "# Анализ и обработка результатов\n",
        "\n",
        "В анализе данных важно наглядное представление результатов, чтобы их мог оценить заказчик. Это бизнес, где на кону громадный трафик, серверные мощности, личное время многотысячной аудитории. И одновременно это исследование.\n",
        "\n",
        "Как в настоящей экспериментальной науке, ответ непредсказуем. Его точность зависит от умелого владения статистическими методами и от качества исходных данных. Перед тем, как начинать считать, проверьте, грамотно ли ваши данные подготовлены.\n",
        "\n",
        "# Группировка данных\n",
        "\n",
        "Слово «анализ» означает разбор, рассмотрение с разных сторон. Анализ данных начинают с разделения их на группы по какому-нибудь признаку. Эта операция называется группировка данных. Она помогает изучить материал более подробно, чтобы затем перейти к поиску взаимосвязей между отдельными группами.\n",
        "\n",
        "\n",
        "Группировка оправданна, если данные чётко делятся по значимому признаку, а полученные группы близки к теме задачи. Например, когда есть данные обо всех покупках в супермаркете, можно смело заниматься группировкой. Так можно установить время наплыва покупателей и решить проблему пиковых нагрузок. Или посчитать средний чек — обычно для магазинов это ключевая метрика.\n",
        "\n",
        "\n",
        "Стадии группировки хорошо укладываются в словесную формулу **split-apply-combine**:\n",
        "\n",
        "•\tразделить, **split** — разбиение на группы по определённому критерию;\n",
        "\n",
        "•\tприменить, **apply** — применение какого-либо метода к каждой группе в отдельности, например, подсчёт численности группы методом count() или суммирование вызовом sum();\n",
        "\n",
        "•\tобъединить, **combine** — сведение результатов в новую структуру данных, в зависимости от условий разделения и выполнения метода это бывает DataFrame и Series.\n",
        "\n",
        "На картинке изображен принцип **split-apply-combine** для таблицы с экзопланетами. Посмотрим, как вообще идут дела с поиском экзопланет. Сначала данные делят по группам, где каждая группа — это год. Потом метод **count()** подсчитывает численность каждой группы. В итоге получаем новую структуру данных с группами, где каждая содержит год и число открытых за этот год экзопланет.\n",
        "\n",
        "\n",
        "В Рandas для группировки данных есть метод **groupby()**. Он принимает как аргумент название столбца, по которому нужно группировать. В случае с делением экзопланет по годам открытия:\n",
        "\n",
        "**print(exoplanet.groupby('discovered'))**\n",
        "\n",
        "**<pandas.core.groupby.DataFrameGroupBy object at 0x7fc1e1ca3400>**\n",
        "\n",
        "\n",
        "Применение метода **groupby()** к объекту типа DataFrame приводит к созданию объекта особого типа — **DataFrameGroupBy**. Это сгруппированные данные. Если применить к ним какой-нибудь метод Pandas, они станут новой структурой данных типа **DataFrame** или **Series**.\n",
        "Подсчитаем сгруппированные по годам экзопланеты методом **count()**:\n",
        "\n",
        "Если нужно сравнить наблюдения по одному показателю, метод применяют к **DataFrameGroupBy** с указанием на один столбец. Нас в первую очередь интересует радиус экзопланет: мы ищем другую Землю. Давайте получим таблицу с единственным столбцом 'radius':\n",
        "\n",
        "**exo_number = exoplanet.groupby('discovered')['radius'].count()**\n",
        "\n",
        "**print(exo_number)**\n",
        "\n",
        "Получили Series, где по годам открытия расписано количество экзопланет, для которых удалось установить радиус.\n",
        "\n",
        "Посмотрим, как меняется средний радиус открытых экзопланет год от года. Для этого надо сложить радиусы планет, открытых за определённый год, и поделить на их количество (которое мы уже нашли).\n",
        "\n",
        "Сумма радиусов считается методом **sum()**:\n",
        "\n",
        "**exo_radius_sum = exoplanet.groupby('discovered')['radius'].sum()**\n",
        "\n",
        "\n",
        "**print(exo_radius_sum)**\n",
        "\n",
        "\n",
        "\n",
        "## Задача\n",
        "Вашему вниманию предлагается датасет с обзором показателей самоубийств с 1985 по 2016 год — Сравнение социально-экономической информации с показателями самоубийств по годам и странам.\n",
        "\n",
        "Столбцами этой таблицы являются: страна, год, пол, возрастная группа, количество самоубийств, население, уровень самоубийств, сводный ключ по стране за год, ИЧР (индекс человеческого развития) за год, ВВП за год, ВВП на душу населения, поколение (на основе среднего по возрастной группе).\n",
        "\n",
        "1. Загрузите таблицу master, содержащую данные о самоубийствах. Выведите на экран таблицу и оцените данные, обратите внимание на названия столбцов, переименуйте их, если это необходимо.\n",
        "\n",
        "2. Убедитесь в том, что данные прошли предподготовку.  Пропущенные и неопределённые значения выявляет метод isna(), а суммарное количество таких значений — метод sum().\n",
        "\n",
        "3. Сгруппируйте DataFrame по столбцу country, сохраните полученный результат в переменной country_grouping.\n",
        "\n",
        "4. Посчитайте количество случаев самоубийств по странам, которые были совершены, методом **sum()**, указав, что выбираем один столбец suicides_no.\n",
        "\n",
        "Сохраните результат в переменной country_sum и выведите первые 30 строк этой таблицы.\n",
        "\n"
      ]
    },
    {
      "cell_type": "code",
      "execution_count": null,
      "metadata": {
        "scrolled": true,
        "colab": {
          "base_uri": "https://localhost:8080/"
        },
        "id": "3_ONILlEM0te",
        "outputId": "4cc224c6-ebef-411b-ed16-79cf85aaebeb"
      },
      "outputs": [
        {
          "output_type": "stream",
          "name": "stdout",
          "text": [
            "Пункт 1\n",
            "   country  year     sex          age  suicides_no  population  \\\n",
            "0  Albania  1987    male  15-24 years           21      312900   \n",
            "1  Albania  1987    male  35-54 years           16      308000   \n",
            "2  Albania  1987  female  15-24 years           14      289700   \n",
            "3  Albania  1987    male    75+ years            1       21800   \n",
            "4  Albania  1987    male  25-34 years            9      274300   \n",
            "\n",
            "   suicides/100k_pop country_year  HDI_for_year gdp_for_year($)  \\\n",
            "0               6.71  Albania1987           NaN   2,156,624,900   \n",
            "1               5.19  Albania1987           NaN   2,156,624,900   \n",
            "2               4.83  Albania1987           NaN   2,156,624,900   \n",
            "3               4.59  Albania1987           NaN   2,156,624,900   \n",
            "4               3.28  Albania1987           NaN   2,156,624,900   \n",
            "\n",
            "   gdp_per_capita($)       generation  \n",
            "0                796     Generation X  \n",
            "1                796           Silent  \n",
            "2                796     Generation X  \n",
            "3                796  G.I. Generation  \n",
            "4                796          Boomers  \n",
            "\n",
            "Пункт 2\n",
            "country                  0\n",
            "year                     0\n",
            "sex                      0\n",
            "age                      0\n",
            "suicides_no              0\n",
            "population               0\n",
            "suicides/100k_pop        0\n",
            "country_year             0\n",
            "HDI_for_year         19456\n",
            "gdp_for_year($)          0\n",
            "gdp_per_capita($)        0\n",
            "generation               0\n",
            "dtype: int64\n",
            "country              0\n",
            "year                 0\n",
            "sex                  0\n",
            "age                  0\n",
            "suicides_no          0\n",
            "population           0\n",
            "suicides/100k_pop    0\n",
            "country_year         0\n",
            "HDI_for_year         0\n",
            "gdp_for_year($)      0\n",
            "gdp_per_capita($)    0\n",
            "generation           0\n",
            "dtype: int64\n",
            "\n",
            "Пункт 3-4\n",
            "country\n",
            "Albania                     238\n",
            "Antigua and Barbuda           0\n",
            "Argentina                 27485\n",
            "Armenia                     628\n",
            "Australia                 19654\n",
            "Austria                   15124\n",
            "Azerbaijan                  111\n",
            "Bahamas                      39\n",
            "Bahrain                     152\n",
            "Barbados                     54\n",
            "Belarus                   11757\n",
            "Belgium                   20424\n",
            "Belize                      154\n",
            "Bosnia and Herzegovina      318\n",
            "Brazil                    81549\n",
            "Bulgaria                  10516\n",
            "Canada                    33612\n",
            "Chile                     14907\n",
            "Colombia                  17940\n",
            "Costa Rica                 2513\n",
            "Croatia                    6397\n",
            "Cuba                      12998\n",
            "Cyprus                      217\n",
            "Czech Republic            14760\n",
            "Denmark                    5335\n",
            "Ecuador                    7080\n",
            "El Salvador                4373\n",
            "Estonia                    2381\n",
            "Fiji                         92\n",
            "Finland                    9474\n",
            "Name: suicides_no, dtype: int64\n"
          ]
        },
        {
          "output_type": "stream",
          "name": "stderr",
          "text": [
            "<ipython-input-93-f7a868dafd8d>:5: FutureWarning: DataFrame.set_axis 'inplace' keyword is deprecated and will be removed in a future version. Use `obj = obj.set_axis(..., copy=False)` instead\n",
            "  df.set_axis(['country', 'year', 'sex', 'age', 'suicides_no', 'population',\n"
          ]
        }
      ],
      "source": [
        "#Youre code is here\n",
        "import pandas as pd\n",
        "df = pd.read_csv('/content/master.csv')\n",
        "print('Пункт 1',)\n",
        "df.set_axis(['country', 'year', 'sex', 'age', 'suicides_no', 'population',\n",
        "       'suicides/100k_pop', 'country_year', 'HDI_for_year',\n",
        "       'gdp_for_year($)', 'gdp_per_capita($)', 'generation'], axis='columns', inplace=True)\n",
        "print(df.head())\n",
        "\n",
        "print('\\nПункт 2',)\n",
        "print(df.isna().sum())\n",
        "df.dropna(subset = ['HDI_for_year'], inplace=True)\n",
        "print(df.isna().sum())\n",
        "\n",
        "print('\\nПункт 3-4')\n",
        "country_grouping = df.groupby('country')\n",
        "country_sum = country_grouping['suicides_no'].sum()\n",
        "print(country_sum.head(30))"
      ]
    },
    {
      "cell_type": "markdown",
      "metadata": {
        "id": "_nCNwjG8M0tf"
      },
      "source": [
        "# Сортировка данных\n",
        "\n",
        "\n",
        "Поиск необычного в группе — что среди планет, что среди меломанов — это прежде всего поиск чемпионов: объектов с выдающимися показателями по разным статьям. Как всю таблицу, так и отдельные группы изучают, сортируя строки по какому-либо столбцу.\n",
        "\n",
        "В Pandas для этой операции есть метод **sort_values()**. У него два аргумента:\n",
        "\n",
        "• **by = 'имя столбца'** — имя столбца, по которому нужно сортировать;\n",
        "\n",
        "• **ascending:** по умолчанию True. Для сортировки по убыванию установите значение False.\n",
        "\n",
        "\n",
        "Среди экзопланет интересны близкие по размерам к Земле. Есть ли такие? Отсортируем список по радиусу в порядке возрастания. Тогда в голове таблицы окажутся самые малые, на которых гравитация не прижмёт нас к полу.\n",
        "\n",
        "**print(exoplanet.sort_values(by='radius').head(30))**\n",
        "\n",
        "Оказывается, некоторые из уже открытых экзопланет по размерам близки не то что к Земле, но уже и к Луне! Получим список экзопланет с радиусом меньше земного. Смотрите, как логический оператор (здесь это <) задействуется в отборе элементов столбца. Дальше нам этот приём не раз понадобится.\n",
        "\n",
        "**print(exoplanet[exoplanet['radius'] < 1])**\n",
        "\n",
        "Но и этот список такой длинный, что изучать его лучше по частям. Экзопланеты, близкие по размерам к Земле, за последнее десятилетие открывали нередко. Можно изучать список открытых за каждый год. Например, для 2014 года (вновь обратите внимание на работу логического оператора, теперь это ==):\n",
        "\n",
        "**print(exoplanet[exoplanet['discovered'] == 2014])**\n",
        "\n",
        "А чтобы не тратить время на лишнее, поставим оба условия сразу. Для этого в Pandas есть логический оператор &, подобный оператору and языка Python. Напомним, его смысл на русском языке можно передать словами «и ещё»:\n",
        "\n",
        "**exo_small_14 = exoplanet[ (exoplanet['radius']<1) & (exoplanet['discovered']==2014)]**\n",
        "\n",
        "**print(exo_small_14)**\n",
        "\n",
        "Отсортируем результат в порядке убывания радиуса.\n",
        "\n",
        "**print(exo_small_14.sort_values(by = 'radius', ascending = False))**\n",
        "\n",
        "\n",
        "\n"
      ]
    },
    {
      "cell_type": "markdown",
      "metadata": {
        "id": "XTzrGkPRM0tg"
      },
      "source": [
        "## Задача\n",
        "1. Выделим пятерки стран с самым низким и самым высоким уровнем самоубийств в мире."
      ]
    },
    {
      "cell_type": "code",
      "execution_count": null,
      "metadata": {
        "id": "j8YVrUPvM0tg",
        "colab": {
          "base_uri": "https://localhost:8080/"
        },
        "outputId": "2fd2aba7-ce97-4f36-8ae1-ce8dab7b43cd"
      },
      "outputs": [
        {
          "output_type": "execute_result",
          "data": {
            "text/plain": [
              "country\n",
              "Antigua and Barbuda     0.00\n",
              "Oman                    5.31\n",
              "Maldives               10.13\n",
              "Azerbaijan             28.69\n",
              "Grenada                38.74\n",
              "Name: suicides/100k_pop, dtype: float64"
            ]
          },
          "metadata": {},
          "execution_count": 65
        }
      ],
      "source": [
        "#Youre code is here\n",
        "country_grouping = df.groupby('country')['suicides/100k_pop'].sum()\n",
        "ascending_sort = country_grouping.sort_values()\n",
        "ascending_sort.head(5)"
      ]
    },
    {
      "cell_type": "code",
      "execution_count": null,
      "metadata": {
        "scrolled": true,
        "id": "lXlBOMMYM0th",
        "colab": {
          "base_uri": "https://localhost:8080/"
        },
        "outputId": "bec4858f-4bf4-4d44-f6a7-1a99aaf8be2b"
      },
      "outputs": [
        {
          "output_type": "execute_result",
          "data": {
            "text/plain": [
              "country\n",
              "Lithuania     3719.77\n",
              "Kazakhstan    3011.99\n",
              "Hungary       2747.65\n",
              "Austria       2659.31\n",
              "Latvia        2617.65\n",
              "Name: suicides/100k_pop, dtype: float64"
            ]
          },
          "metadata": {},
          "execution_count": 75
        }
      ],
      "source": [
        "#Youre code is here\n",
        "country_grouping = df.groupby('country')['suicides/100k_pop'].sum()\n",
        "descending_sort = country_grouping.sort_values(ascending=False)\n",
        "descending_sort.head(5)"
      ]
    },
    {
      "cell_type": "markdown",
      "metadata": {
        "id": "0KOkJZoNM0th"
      },
      "source": [
        "2. Исследуйте распределение количества суидидов по гендерному признаку. Найдите лидеров и антилидеров по количеству самоубийств среди женщин. Повторяется ли картина по сравнению с предыдущим исследованием?"
      ]
    },
    {
      "cell_type": "code",
      "execution_count": null,
      "metadata": {
        "id": "q68rX0zSM0th",
        "colab": {
          "base_uri": "https://localhost:8080/"
        },
        "outputId": "498497b4-fb91-47e8-fa34-4a9f880f74cd"
      },
      "outputs": [
        {
          "output_type": "stream",
          "name": "stdout",
          "text": [
            "country\n",
            "Antigua and Barbuda    0\n",
            "Oman                   0\n",
            "Grenada                0\n",
            "Maldives               0\n",
            "Seychelles             3\n",
            "Name: suicides_no, dtype: int64\n"
          ]
        }
      ],
      "source": [
        "#Youre code is here\n",
        "woman_suicides_no = df[df['sex']=='female']\n",
        "woman_grouping_ascending = woman_suicides_no.groupby('country')['suicides_no'].sum().sort_values()\n",
        "print(woman_grouping_ascending.head(5))"
      ]
    },
    {
      "cell_type": "code",
      "source": [
        "woman_grouping_descending = woman_suicides_no.groupby('country')['suicides_no'].sum().sort_values(ascending=False)\n",
        "print(woman_grouping_descending.head(5))"
      ],
      "metadata": {
        "colab": {
          "base_uri": "https://localhost:8080/"
        },
        "id": "b9hbFnTQWCZi",
        "outputId": "8de075aa-cb72-4d70-9e27-2392507a8bc6"
      },
      "execution_count": null,
      "outputs": [
        {
          "output_type": "stream",
          "name": "stdout",
          "text": [
            "country\n",
            "Japan            80683\n",
            "United States    75033\n",
            "France           28168\n",
            "Germany          26623\n",
            "Brazil           17736\n",
            "Name: suicides_no, dtype: int64\n"
          ]
        }
      ]
    },
    {
      "cell_type": "markdown",
      "metadata": {
        "id": "wtvzfv3fM0th"
      },
      "source": [
        "# Описательная статистика\n",
        "\n",
        "Чтобы представить себе среднестатистического самоубийцу, понадобится описательная статистика.\n",
        "\n",
        "Из её показателей для количественного описания данных в нашей задаче нужны четыре меры — максимум, минимум, медиана и среднее.\n",
        "\n",
        "Наибольшее и наименьшее обычно вычисляют только по одному признаку. Например, можно получить минимальное и максимальное значение уровня самоубийств (количество самоубийств на 100 тыс.населения) (столбец 'suicides/100k pop'). Для поиска максимума вызывают метод max(), примененный к этому столбцу:\n",
        "\n",
        "print(master['suicides/100k pop'].max())\n"
      ]
    },
    {
      "cell_type": "code",
      "execution_count": null,
      "metadata": {
        "id": "SkTqDy6ZM0ti",
        "colab": {
          "base_uri": "https://localhost:8080/"
        },
        "outputId": "a62d3ca7-6f9b-4f92-f8e9-b08dc7cf97f5"
      },
      "outputs": [
        {
          "output_type": "stream",
          "name": "stdout",
          "text": [
            "224.97\n"
          ]
        }
      ],
      "source": [
        "#Youre code is here\n",
        "print(df['suicides/100k_pop'].max())"
      ]
    },
    {
      "cell_type": "markdown",
      "metadata": {
        "id": "slPyeLtbM0ti"
      },
      "source": [
        "Самый высокий показатель оказался 224.97 самоубийств на 100 тыс.населения. Интересно, в какой стране такая ситуация.\n",
        "\n",
        "Запросим из master строку с максимальным значением, прибегнув к логической индексации с условием\n",
        "\n",
        "**master['suicides/100k pop'] == master['suicides/100k pop'].max()**"
      ]
    },
    {
      "cell_type": "code",
      "execution_count": null,
      "metadata": {
        "id": "TJNcLmk8M0ti",
        "colab": {
          "base_uri": "https://localhost:8080/"
        },
        "outputId": "7d820ac7-6704-4522-d700-bd2869d7d7d5"
      },
      "outputs": [
        {
          "output_type": "stream",
          "name": "stdout",
          "text": [
            "     country  year   sex        age  suicides_no  population  \\\n",
            "1258   Aruba  1995  male  75+ years            2         889   \n",
            "\n",
            "      suicides/100k_pop country_year  HDI_for_year gdp_for_year($)  \\\n",
            "1258             224.97    Aruba1995           NaN   1,320,670,391   \n",
            "\n",
            "      gdp_per_capita($)       generation  \n",
            "1258              17949  G.I. Generation  \n"
          ]
        }
      ],
      "source": [
        "#Youre code is here\n",
        "print(df[df['suicides/100k_pop'] == df['suicides/100k_pop'].max()])"
      ]
    },
    {
      "cell_type": "markdown",
      "metadata": {
        "id": "qCfoXUHqM0tj"
      },
      "source": [
        "Минимальное значение — ищут методом **min()**. Нам интересно установить случаи, когда уровень суицидов минимальный, но не нулевой.\n",
        "\n",
        "Вот как мы создаём выборку  и находим в ней минимальное значение:\n",
        "\n",
        "**master_drop_null = master[master['suicides/100k pop'] != 0]**\n",
        "\n",
        "**print(master_drop_null['suicides/100k pop'].min())**\n"
      ]
    },
    {
      "cell_type": "code",
      "execution_count": null,
      "metadata": {
        "id": "3O8veIQCM0tj",
        "colab": {
          "base_uri": "https://localhost:8080/"
        },
        "outputId": "61471d1c-4d63-45dc-8a28-4d9cb1cbdc3c"
      },
      "outputs": [
        {
          "output_type": "stream",
          "name": "stdout",
          "text": [
            "0.02\n"
          ]
        }
      ],
      "source": [
        "#Youre code is here\n",
        "df_drop_null = df[df['suicides/100k_pop'] != 0]\n",
        "print(df_drop_null['suicides/100k_pop'].min())"
      ]
    },
    {
      "cell_type": "markdown",
      "metadata": {
        "id": "vezXFCGpM0tj"
      },
      "source": [
        "Получим название самой \"счастливой\" страны. Как и при поиске максимума, воспользуемся условием и логической индексацией"
      ]
    },
    {
      "cell_type": "code",
      "execution_count": null,
      "metadata": {
        "id": "iSjcnsqqM0tj",
        "colab": {
          "base_uri": "https://localhost:8080/"
        },
        "outputId": "5229c85c-c2cf-467c-8e2f-2f44cc25c2e4"
      },
      "outputs": [
        {
          "output_type": "stream",
          "name": "stdout",
          "text": [
            "            country  year     sex         age  suicides_no  population  \\\n",
            "23347  South Africa  2000  female  5-14 years            1     5079980   \n",
            "23479  South Africa  2011    male  5-14 years            1     5198162   \n",
            "\n",
            "       suicides/100k_pop      country_year  HDI_for_year  gdp_for_year($)  \\\n",
            "23347               0.02  South Africa2000         0.632  136,361,854,808   \n",
            "23479               0.02  South Africa2011         0.651  416,878,162,441   \n",
            "\n",
            "       gdp_per_capita($)    generation  \n",
            "23347               3361    Millenials  \n",
            "23479               8906  Generation Z  \n"
          ]
        }
      ],
      "source": [
        "#Youre code is here\n",
        "print(df[df['suicides/100k_pop'] == df_drop_null['suicides/100k_pop'].min()])"
      ]
    },
    {
      "cell_type": "markdown",
      "metadata": {
        "id": "xQFGKVehM0tj"
      },
      "source": [
        "Результат вывода — две страны, которые соответствуют минимальному значению.\n",
        "На основе полученных данных можно сделать вывод, что число совершенных самоубийств на 100 тыс. населения  находится в диапазоне от 0,02 до 224.97 секунд, не включая пропущенные.\n",
        "\n",
        "Это знание пригодится, чтобы разобраться с медианой и средним арифметическим.\n",
        "\n",
        "Среднее и медиана оценивают значения в центре выборки. Если тех строк, где число с большим количеством самоубийц, столько же, сколько тех, где это число мало — среднее подойдет. Но когда есть оторванные от основной массы лидеры, их результаты сильно смещают значение среднего вверх. Вот почему оценивать в этом случае лучше медианой.\n",
        "\n",
        "\n",
        "В геометрии медиана делит фигуру на две равные по площади. В статистике она делит выборку пополам: в одной половине значения меньше медианного, в другой больше. Логично, что для определения медианы список обязательно должен быть отсортирован — либо по возрастанию, либо по убыванию.\n",
        "Когда количество значений нечётное, медиана будет равна тому значению, которое оказалось ровно посередине отсортированного набора. Если же количество данных чётное, то медиана рассчитывается как среднее арифметическое двух соседних чисел в середине набора.\n",
        "\n"
      ]
    },
    {
      "cell_type": "markdown",
      "metadata": {
        "id": "tChb9EzlM0tk"
      },
      "source": [
        "В Pandas есть метод **median()**, который считает медиану. По аналогии с **min()** и **max()** его можно применять ко всей таблице, к отдельному столбцу или к сгруппированным данным. Теперь применим медиану ко всем значениям времени прослушивания в нашей таблице, исключив нулевые:\n",
        "\n"
      ]
    },
    {
      "cell_type": "code",
      "execution_count": 101,
      "metadata": {
        "id": "e8nHm8-DM0tk",
        "colab": {
          "base_uri": "https://localhost:8080/"
        },
        "outputId": "1df54f34-e299-4cbb-8a16-5fae1fa4a6ab"
      },
      "outputs": [
        {
          "output_type": "stream",
          "name": "stdout",
          "text": [
            "42.0\n"
          ]
        }
      ],
      "source": [
        "#Youre code is here\n",
        "sort_by_suicides_no = df_drop_null.sort_values('suicides_no')\n",
        "print(sort_by_suicides_no['suicides_no'].median())"
      ]
    },
    {
      "cell_type": "markdown",
      "metadata": {
        "id": "LzFFK5uRM0tk"
      },
      "source": [
        "Чтобы убедиться, что лидеры действительно смещают средний показатель вверх, найдём среднее арифметическое всех этих значений методом mean():"
      ]
    },
    {
      "cell_type": "code",
      "execution_count": 102,
      "metadata": {
        "id": "fOz4YtVMM0tk",
        "colab": {
          "base_uri": "https://localhost:8080/"
        },
        "outputId": "3c0796ab-11ce-4b4b-8c27-cdaee8621089"
      },
      "outputs": [
        {
          "output_type": "stream",
          "name": "stdout",
          "text": [
            "286.69102340796127\n"
          ]
        }
      ],
      "source": [
        "#Youre code is here\n",
        "print(df_drop_null['suicides_no'].mean())"
      ]
    }
  ],
  "metadata": {
    "kernelspec": {
      "display_name": "Python 3 (ipykernel)",
      "language": "python",
      "name": "python3"
    },
    "language_info": {
      "codemirror_mode": {
        "name": "ipython",
        "version": 3
      },
      "file_extension": ".py",
      "mimetype": "text/x-python",
      "name": "python",
      "nbconvert_exporter": "python",
      "pygments_lexer": "ipython3",
      "version": "3.9.12"
    },
    "colab": {
      "provenance": [],
      "include_colab_link": true
    }
  },
  "nbformat": 4,
  "nbformat_minor": 0
}